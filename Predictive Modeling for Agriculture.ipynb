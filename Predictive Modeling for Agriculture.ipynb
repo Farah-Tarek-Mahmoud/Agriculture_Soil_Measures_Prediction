{
 "cells": [
  {
   "cell_type": "markdown",
   "metadata": {},
   "source": [
    "# All required libraries are imported here for you.\n",
    "import pandas as pd\n",
    "from sklearn.linear_model import LogisticRegression\n",
    "from sklearn.model_selection import train_test_split\n",
    "from sklearn import metrics\n",
    "\n",
    "# Load the dataset\n",
    "crops = pd.read_csv(\"soil_measures.csv\")\n",
    "\n",
    "# # Write your code here\n",
    "# print(len(crops))\n",
    "# print(crops.info())\n",
    "# print(crops.isna().sum().sort_values())\n",
    "# print(crops['crop'].value_counts())\n",
    "\n",
    "X = crops[['N', 'P', 'K', 'ph']]\n",
    "y = crops['crop']\n",
    "print(X.shape)\n",
    "print(y.shape)\n",
    "\n",
    "X_train, X_test, y_train, y_test = train_test_split(X, y, test_size= 0.2, stratify=y, random_state=42)\n",
    "\n",
    "\n",
    "# params = {\"Nitrogen\": \"N\", \"phosphorous\": \"P\", \"Potassium\": \"K\", \"ph\":'ph'}\n",
    "features_dict = {}\n",
    "for feature in ['N', 'P', 'K', 'ph']:\n",
    "    logreg = LogisticRegression(multi_class='multinomial', max_iter=1000)\n",
    "    logreg.fit(X_train[[feature]], y_train)\n",
    "    y_pred = logreg.predict(X_test[[feature]])\n",
    "    feature_performance = metrics.f1_score(y_test, y_pred, average='weighted')\n",
    "    features_dict[feature] = feature_performance\n",
    "    print(feature_performance)\n",
    "\n",
    "best_feature = max(features_dict, key=features_dict.get)\n",
    "best_score = features_dict[best_feature]\n",
    "\n",
    "# Store the best predictive feature in a dictionary\n",
    "best_predictive_feature = {best_feature: best_score}\n",
    "\n",
    "# Print the best predictive feature and its score\n",
    "print(f\"Best predictive feature: {best_predictive_feature}\")\n"
   ]
  }
 ],
 "metadata": {
  "language_info": {
   "name": "python"
  }
 },
 "nbformat": 4,
 "nbformat_minor": 2
}
